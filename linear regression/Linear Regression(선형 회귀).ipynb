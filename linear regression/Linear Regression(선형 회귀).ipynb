{
 "cells": [
  {
   "cell_type": "markdown",
   "id": "103d4f12",
   "metadata": {},
   "source": [
    "![경사하강법](경사하강법.PNG)"
   ]
  },
  {
   "cell_type": "markdown",
   "id": "d40f4ed8",
   "metadata": {},
   "source": [
    "![선형회귀](Linear.png)"
   ]
  },
  {
   "cell_type": "markdown",
   "id": "34a2d611",
   "metadata": {},
   "source": [
    "## example"
   ]
  },
  {
   "cell_type": "markdown",
   "id": "536e5675",
   "metadata": {},
   "source": [
    "1. 학습데이터(Training Data) 준비"
   ]
  },
  {
   "cell_type": "code",
   "execution_count": 1,
   "id": "b4830ac0",
   "metadata": {},
   "outputs": [
    {
     "name": "stdout",
     "output_type": "stream",
     "text": [
      "x_data.shape =  (5, 1) , t_data.shape =  (5, 1)\n"
     ]
    }
   ],
   "source": [
    "import numpy as np\n",
    "\n",
    "x_data = np.array([1,2,3,4,5]).reshape(5,1)\n",
    "t_data = np.array([2,3,4,5,6]).reshape(5,1)\n",
    "\n",
    "# raw_data = [[1,2],[2,3],[3,4],[4,5],[5,6]]\n",
    "\n",
    "print(\"x_data.shape = \", x_data.shape, \", t_data.shape = \", t_data.shape)"
   ]
  },
  {
   "cell_type": "markdown",
   "id": "6cf86af5",
   "metadata": {},
   "source": [
    "2. 임의의 직선 y = Wx + b 정의(임의의 값으로 가중치 W, 바이어스 b 초기화)"
   ]
  },
  {
   "cell_type": "code",
   "execution_count": 2,
   "id": "aa6af02d",
   "metadata": {},
   "outputs": [
    {
     "name": "stdout",
     "output_type": "stream",
     "text": [
      "[[0.21580583]] (1, 1) [0.00626995] (1,)\n"
     ]
    }
   ],
   "source": [
    "W = np.random.rand(1,1)\n",
    "b = np.random.rand(1)\n",
    "print(W, W.shape, b, b.shape)\n"
   ]
  },
  {
   "cell_type": "markdown",
   "id": "e41440ed",
   "metadata": {},
   "source": [
    "3. 손실함수 E(W,b) 정의"
   ]
  },
  {
   "cell_type": "code",
   "execution_count": 3,
   "id": "e3d20387",
   "metadata": {},
   "outputs": [],
   "source": [
    "def loss_func(x,t): # x = training data input / t = training data output\n",
    "    y = np.dot(x,W) + b # 임의의 기울기 W를 가질때의 y값 (t와 비교할 것)\n",
    "    \n",
    "    # t 와 y 값의 제곱(오차)를 비교해야함\n",
    "    \n",
    "    return  ( np.sum((t-y)**2)) / (len(x))"
   ]
  },
  {
   "cell_type": "markdown",
   "id": "790a56d9",
   "metadata": {},
   "source": [
    "4. 수치미분 numerical_derivative 및 utility 함수 정의"
   ]
  },
  {
   "cell_type": "code",
   "execution_count": 7,
   "id": "83eb7c8c",
   "metadata": {},
   "outputs": [],
   "source": [
    "def numerical_derivative(f,x): # 손실함수 E(W 또는 b에 대한)를 편미분함\n",
    "    delta_x = 1e-4 # 0.0001\n",
    "    grad = np.zeros_like(x)\n",
    "    \n",
    "    it = np.nditer(x, flags=['multi_index'], op_flags=['readwrite'])\n",
    "    \n",
    "    while not it.finished:\n",
    "        idx = it.multi_index\n",
    "        tmp_val = x[idx]\n",
    "        x[idx] = float(tmp_val) + delta_x\n",
    "        fx1 = f(x) # f(x+delta_x)\n",
    "        \n",
    "        x[idx] = tmp_val - delta_x\n",
    "        fx2 = f(x) # f(x-delta_x)\n",
    "        grad[idx] = (fx1 - fx2) / (2*delta_x)\n",
    "        \n",
    "        x[idx] = tmp_val\n",
    "        it.iternext()\n",
    "    \n",
    "    return grad\n",
    "\n",
    "    # 손실함수 값 계산 함수\n",
    "    # 입력변수 x, t : numpy type\n",
    "    "
   ]
  },
  {
   "cell_type": "code",
   "execution_count": 8,
   "id": "9833a74f",
   "metadata": {},
   "outputs": [],
   "source": [
    "def error_val(x,t):\n",
    "    y = np.dot(x,W) + b\n",
    "        \n",
    "    return (np.sum((t-y)**2)) / (len(x))\n",
    "    \n",
    "# 학습을 마친 후 , 임의의 데이터에 대해 미래 값 예측 함수\n",
    "# 입력변수 x : numpy type\n",
    "\n",
    "def predict(x):\n",
    "    y = np.dot(x,W) + b\n",
    "        \n",
    "    return y"
   ]
  },
  {
   "cell_type": "markdown",
   "id": "ad5dc170",
   "metadata": {},
   "source": [
    "5. 학습율(learning rate)초기화 및 손실함수가 최소가 될 때까지 W, b 업데이트"
   ]
  },
  {
   "cell_type": "code",
   "execution_count": 9,
   "id": "086d0f0a",
   "metadata": {},
   "outputs": [
    {
     "name": "stdout",
     "output_type": "stream",
     "text": [
      "Initial error value =  12.427728682069304 Initial W =  [[0.21580583]] \n",
      " , b =  [0.00626995]\n",
      "step =  0 error value =  7.353275744095389 W =  [[0.44795235]] , b =  [0.05926741]\n",
      "step =  400 error value =  0.006976371479332349 W =  [[1.05423898]] , b =  [0.80422799]\n",
      "step =  800 error value =  0.0004451337444999288 W =  [[1.01370068]] , b =  [0.95054832]\n",
      "step =  1200 error value =  2.8402164517702104e-05 W =  [[1.00346077]] , b =  [0.98750859]\n",
      "step =  1600 error value =  1.812226009053965e-06 W =  [[1.00087418]] , b =  [0.99684469]\n",
      "step =  2000 error value =  1.156307332085789e-07 W =  [[1.00022082]] , b =  [0.99920297]\n",
      "step =  2400 error value =  7.37792438449663e-09 W =  [[1.00005578]] , b =  [0.99979867]\n",
      "step =  2800 error value =  4.707551938207009e-10 W =  [[1.00001409]] , b =  [0.99994915]\n",
      "step =  3200 error value =  3.003696445859223e-11 W =  [[1.00000356]] , b =  [0.99998715]\n",
      "step =  3600 error value =  1.9165359105093207e-12 W =  [[1.0000009]] , b =  [0.99999676]\n",
      "step =  4000 error value =  1.2228632173548014e-13 W =  [[1.00000023]] , b =  [0.99999918]\n",
      "step =  4400 error value =  7.802590254504239e-15 W =  [[1.00000006]] , b =  [0.99999979]\n",
      "step =  4800 error value =  4.978513922241657e-16 W =  [[1.00000001]] , b =  [0.99999995]\n",
      "step =  5200 error value =  3.1765862996869097e-17 W =  [[1.]] , b =  [0.99999999]\n",
      "step =  5600 error value =  2.026849997801337e-18 W =  [[1.]] , b =  [1.]\n",
      "step =  6000 error value =  1.2932526063131802e-19 W =  [[1.]] , b =  [1.]\n",
      "step =  6400 error value =  8.25167609396211e-21 W =  [[1.]] , b =  [1.]\n",
      "step =  6800 error value =  5.264957735040224e-22 W =  [[1.]] , b =  [1.]\n",
      "step =  7200 error value =  3.3593197125716696e-23 W =  [[1.]] , b =  [1.]\n",
      "step =  7600 error value =  2.1445603776865236e-24 W =  [[1.]] , b =  [1.]\n",
      "step =  8000 error value =  1.3731516394869425e-25 W =  [[1.]] , b =  [1.]\n"
     ]
    }
   ],
   "source": [
    "learning_rate = 1e-2  # 발산하는 경우, 1e-3 ~ 1e-6 등으로 바꾸어서 실행\n",
    "\n",
    "f = lambda x : loss_func(x_data,t_data)\n",
    "\n",
    "print(\"Initial error value = \", error_val(x_data, t_data), \"Initial W = \", W, \"\\n\", \", b = \", b )\n",
    "\n",
    "for step in  range(8001):  \n",
    "    \n",
    "    W -= learning_rate * numerical_derivative(f, W) # 오차함수 E에 대한 W의 편미분(기울기)가 최소가 되도록 수렴시킴\n",
    "    \n",
    "    b -= learning_rate * numerical_derivative(f, b)\n",
    "    \n",
    "    if (step % 400 == 0):\n",
    "        print(\"step = \", step, \"error value = \", error_val(x_data, t_data), \"W = \", W, \", b = \",b )"
   ]
  },
  {
   "cell_type": "code",
   "execution_count": 10,
   "id": "92ffa30d",
   "metadata": {},
   "outputs": [
    {
     "data": {
      "text/plain": [
       "array([[44.]])"
      ]
     },
     "execution_count": 10,
     "metadata": {},
     "output_type": "execute_result"
    }
   ],
   "source": [
    "predict(43)"
   ]
  },
  {
   "cell_type": "code",
   "execution_count": null,
   "id": "fdd6dec2",
   "metadata": {},
   "outputs": [],
   "source": []
  },
  {
   "cell_type": "code",
   "execution_count": null,
   "id": "35c10904",
   "metadata": {},
   "outputs": [],
   "source": []
  },
  {
   "cell_type": "code",
   "execution_count": null,
   "id": "3dd9e6b8",
   "metadata": {},
   "outputs": [],
   "source": []
  }
 ],
 "metadata": {
  "kernelspec": {
   "display_name": "Python 3 (ipykernel)",
   "language": "python",
   "name": "python3"
  },
  "language_info": {
   "codemirror_mode": {
    "name": "ipython",
    "version": 3
   },
   "file_extension": ".py",
   "mimetype": "text/x-python",
   "name": "python",
   "nbconvert_exporter": "python",
   "pygments_lexer": "ipython3",
   "version": "3.9.12"
  }
 },
 "nbformat": 4,
 "nbformat_minor": 5
}
