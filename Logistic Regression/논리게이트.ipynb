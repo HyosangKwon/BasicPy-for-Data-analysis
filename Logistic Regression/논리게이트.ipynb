{
 "cells": [
  {
   "cell_type": "code",
   "execution_count": 1,
   "id": "dca37b42",
   "metadata": {},
   "outputs": [],
   "source": [
    "import numpy as np\n",
    "\n",
    "# sigmoid 함수\n",
    "def sigmoid(x):\n",
    "    return 1 / (1+np.exp(-x))\n",
    "\n",
    "# 수치미분 함수\n",
    "def numerical_derivative(f, x):\n",
    "    delta_x = 1e-4 # 0.0001\n",
    "    grad = np.zeros_like(x)\n",
    "    \n",
    "    it = np.nditer(x, flags=['multi_index'], op_flags=['readwrite'])\n",
    "    \n",
    "    while not it.finished:\n",
    "        idx = it.multi_index        \n",
    "        tmp_val = x[idx]\n",
    "        x[idx] = float(tmp_val) + delta_x\n",
    "        fx1 = f(x) # f(x+delta_x)\n",
    "        \n",
    "        x[idx] = tmp_val - delta_x \n",
    "        fx2 = f(x) # f(x-delta_x)\n",
    "        grad[idx] = (fx1 - fx2) / (2*delta_x)\n",
    "        \n",
    "        x[idx] = tmp_val \n",
    "        it.iternext()   \n",
    "        \n",
    "    return grad"
   ]
  },
  {
   "cell_type": "code",
   "execution_count": 2,
   "id": "74f490bd",
   "metadata": {},
   "outputs": [],
   "source": [
    "# LogicGate Class\n",
    "\n",
    "class LogicGate:\n",
    "    \n",
    "    def __init__(self, gate_name, xdata, tdata):  # xdata, tdata => numpy.array(...)\n",
    "        \n",
    "        self.name = gate_name\n",
    "        \n",
    "        # 입력 데이터, 정답 데이터 초기화\n",
    "        self.__xdata = xdata.reshape(4,2)\n",
    "        self.__tdata = tdata.reshape(4,1)\n",
    "        \n",
    "        # 가중치 W, 바이어스 b 초기화\n",
    "        self.__W = np.random.rand(2,1)  # weight, 2 X 1 matrix\n",
    "        self.__b = np.random.rand(1)\n",
    "                        \n",
    "        # 학습률 learning rate 초기화\n",
    "        self.__learning_rate = 1e-2\n",
    "        \n",
    "    # 손실함수\n",
    "    def __loss_func(self):\n",
    "        \n",
    "        delta = 1e-7    # log 무한대 발산 방지\n",
    "    \n",
    "        z = np.dot(self.__xdata, self.__W) + self.__b\n",
    "        y = sigmoid(z)\n",
    "    \n",
    "        # cross-entropy \n",
    "        return  -np.sum( self.__tdata*np.log(y + delta) + (1-self.__tdata)*np.log((1 - y)+delta ) )      \n",
    "    \n",
    "    # 손실 값 계산\n",
    "    def error_val(self):\n",
    "        \n",
    "        delta = 1e-7    # log 무한대 발산 방지\n",
    "    \n",
    "        z = np.dot(self.__xdata, self.__W) + self.__b\n",
    "        y = sigmoid(z)\n",
    "    \n",
    "        # cross-entropy \n",
    "        return  -np.sum( self.__tdata*np.log(y + delta) + (1-self.__tdata)*np.log((1 - y)+delta ) )\n",
    "\n",
    "    # 수치미분을 이용하여 손실함수가 최소가 될때 까지 학습하는 함수\n",
    "    def train(self):\n",
    "        \n",
    "        f = lambda x : self.__loss_func()\n",
    "        \n",
    "        print(\"Initial error value = \", self.error_val())\n",
    "        \n",
    "        for step in  range(8001):\n",
    "            \n",
    "            self.__W -= self.__learning_rate * numerical_derivative(f, self.__W)\n",
    "    \n",
    "            self.__b -= self.__learning_rate * numerical_derivative(f, self.__b)\n",
    "    \n",
    "            if (step % 400 == 0):\n",
    "                print(\"step = \", step, \"error value = \", self.error_val())\n",
    "                \n",
    "                \n",
    "    # 미래 값 예측 함수\n",
    "    def predict(self, input_data):\n",
    "        \n",
    "        z = np.dot(input_data, self.__W) + self.__b\n",
    "        y = sigmoid(z)\n",
    "    \n",
    "        if y > 0.5:\n",
    "            result = 1  # True\n",
    "        else:\n",
    "            result = 0  # False\n",
    "    \n",
    "        return y, result"
   ]
  },
  {
   "cell_type": "code",
   "execution_count": 3,
   "id": "f68dc8bc",
   "metadata": {},
   "outputs": [
    {
     "name": "stdout",
     "output_type": "stream",
     "text": [
      "Initial error value =  4.678920751997569\n",
      "step =  0 error value =  4.623519529563881\n",
      "step =  400 error value =  1.615888336121151\n",
      "step =  800 error value =  1.1802772069291438\n",
      "step =  1200 error value =  0.9415602195252619\n",
      "step =  1600 error value =  0.786605132664829\n",
      "step =  2000 error value =  0.6762489367211534\n",
      "step =  2400 error value =  0.5930598185856018\n",
      "step =  2800 error value =  0.5278892391575469\n",
      "step =  3200 error value =  0.47538067286865926\n",
      "step =  3600 error value =  0.43214993182337263\n",
      "step =  4000 error value =  0.39593702338824166\n",
      "step =  4400 error value =  0.3651677384014771\n",
      "step =  4800 error value =  0.33870855542887923\n",
      "step =  5200 error value =  0.31572101538281455\n",
      "step =  5600 error value =  0.29557090165380284\n",
      "step =  6000 error value =  0.2777693241703241\n",
      "step =  6400 error value =  0.2619332312447516\n",
      "step =  6800 error value =  0.24775820379130395\n",
      "step =  7200 error value =  0.234999264416867\n",
      "step =  7600 error value =  0.22345706045125546\n",
      "step =  8000 error value =  0.21296773593784246\n"
     ]
    }
   ],
   "source": [
    "xdata = np.array([ [0, 0], [0, 1], [1, 0], [1, 1] ])\n",
    "tdata = np.array([0, 0, 0, 1])\n",
    "\n",
    "AND_obj = LogicGate(\"AND_GATE\", xdata, tdata)\n",
    "\n",
    "AND_obj.train()"
   ]
  },
  {
   "cell_type": "code",
   "execution_count": 4,
   "id": "d70afbc6",
   "metadata": {},
   "outputs": [
    {
     "name": "stdout",
     "output_type": "stream",
     "text": [
      "AND_GATE \n",
      "\n",
      "[0 0]  =  0 \n",
      "\n",
      "[0 1]  =  0 \n",
      "\n",
      "[1 0]  =  0 \n",
      "\n",
      "[1 1]  =  1 \n",
      "\n"
     ]
    }
   ],
   "source": [
    "# AND Gate prediction\n",
    "print(AND_obj.name, \"\\n\")\n",
    "\n",
    "test_data = np.array([ [0, 0], [0, 1], [1, 0], [1, 1] ])\n",
    "\n",
    "for input_data in test_data:\n",
    "    (sigmoid_val, logical_val) = AND_obj.predict(input_data) \n",
    "    print(input_data, \" = \", logical_val, \"\\n\")"
   ]
  },
  {
   "cell_type": "code",
   "execution_count": 5,
   "id": "06fdc160",
   "metadata": {},
   "outputs": [
    {
     "name": "stdout",
     "output_type": "stream",
     "text": [
      "Initial error value =  2.3125251700001153\n",
      "step =  0 error value =  2.299820995875362\n",
      "step =  400 error value =  1.212678572762736\n",
      "step =  800 error value =  0.859913520969681\n",
      "step =  1200 error value =  0.6590170885089477\n",
      "step =  1600 error value =  0.5307317875459385\n",
      "step =  2000 error value =  0.44230645074574065\n",
      "step =  2400 error value =  0.37798820485589557\n",
      "step =  2800 error value =  0.3292906307742788\n",
      "step =  3200 error value =  0.291252043068125\n",
      "step =  3600 error value =  0.26078721982416064\n",
      "step =  4000 error value =  0.23588273484632358\n",
      "step =  4400 error value =  0.21517215071541074\n",
      "step =  4800 error value =  0.19769750112073392\n",
      "step =  5200 error value =  0.18276850157972818\n",
      "step =  5600 error value =  0.1698759147512502\n",
      "step =  6000 error value =  0.1586363243837398\n",
      "step =  6400 error value =  0.14875584446720685\n",
      "step =  6800 error value =  0.14000563104900746\n",
      "step =  7200 error value =  0.13220496824886713\n",
      "step =  7600 error value =  0.12520934133353867\n",
      "step =  8000 error value =  0.11890186924601277\n"
     ]
    }
   ],
   "source": [
    "xdata = np.array([ [0, 0], [0, 1], [1, 0], [1, 1] ])\n",
    "tdata = np.array([0, 1, 1, 1])\n",
    "\n",
    "OR_obj = LogicGate(\"OR_GATE\", xdata, tdata)\n",
    "\n",
    "OR_obj.train() "
   ]
  },
  {
   "cell_type": "code",
   "execution_count": 6,
   "id": "650af1e0",
   "metadata": {},
   "outputs": [
    {
     "name": "stdout",
     "output_type": "stream",
     "text": [
      "OR_GATE \n",
      "\n",
      "[0 0]  =  0 \n",
      "\n",
      "[0 1]  =  1 \n",
      "\n",
      "[1 0]  =  1 \n",
      "\n",
      "[1 1]  =  1 \n",
      "\n"
     ]
    }
   ],
   "source": [
    "# OR Gate prediction\n",
    "print(OR_obj.name, \"\\n\")\n",
    "\n",
    "test_data = np.array([ [0, 0], [0, 1], [1, 0], [1, 1] ])\n",
    "\n",
    "for input_data in test_data:\n",
    "    (sigmoid_val, logical_val) = OR_obj.predict(input_data) \n",
    "    print(input_data, \" = \", logical_val, \"\\n\")  "
   ]
  },
  {
   "cell_type": "code",
   "execution_count": 7,
   "id": "c9da1a76",
   "metadata": {},
   "outputs": [
    {
     "name": "stdout",
     "output_type": "stream",
     "text": [
      "Initial error value =  2.9405292177298055\n",
      "step =  0 error value =  2.9353857002437937\n",
      "step =  400 error value =  1.7057258980792742\n",
      "step =  800 error value =  1.2258133075533246\n",
      "step =  1200 error value =  0.9696266961392628\n",
      "step =  1600 error value =  0.8059017605701828\n",
      "step =  2000 error value =  0.6904385681700389\n",
      "step =  2400 error value =  0.6039751498930639\n",
      "step =  2800 error value =  0.5365620056443066\n",
      "step =  3200 error value =  0.48244256355627346\n",
      "step =  3600 error value =  0.4380123808936678\n",
      "step =  4000 error value =  0.4008809164727486\n",
      "step =  4400 error value =  0.3693920374253453\n",
      "step =  4800 error value =  0.34235843795222476\n",
      "step =  5200 error value =  0.31890503667651954\n",
      "step =  5600 error value =  0.2983719193527586\n",
      "step =  6000 error value =  0.28025170321685133\n",
      "step =  6400 error value =  0.2641477392756104\n",
      "step =  6800 error value =  0.2497454228416332\n",
      "step =  7200 error value =  0.23679202133525135\n",
      "step =  7600 error value =  0.22508219176313277\n",
      "step =  8000 error value =  0.21444739127090529\n"
     ]
    }
   ],
   "source": [
    "xdata = np.array([ [0, 0], [0, 1], [1, 0], [1, 1] ])\n",
    "tdata = np.array([1, 1, 1, 0])\n",
    "\n",
    "NAND_obj = LogicGate(\"NAND_GATE\", xdata, tdata)\n",
    "\n",
    "NAND_obj.train()"
   ]
  },
  {
   "cell_type": "code",
   "execution_count": 8,
   "id": "d24c4552",
   "metadata": {},
   "outputs": [
    {
     "name": "stdout",
     "output_type": "stream",
     "text": [
      "NAND_GATE \n",
      "\n",
      "[0 0]  =  1 \n",
      "\n",
      "[0 1]  =  1 \n",
      "\n",
      "[1 0]  =  1 \n",
      "\n",
      "[1 1]  =  0 \n",
      "\n"
     ]
    }
   ],
   "source": [
    "# NAND Gate prediction\n",
    "print(NAND_obj.name, \"\\n\")\n",
    "\n",
    "test_data = np.array([ [0, 0], [0, 1], [1, 0], [1, 1] ])\n",
    "\n",
    "for input_data in test_data:\n",
    "    (sigmoid_val, logical_val) = NAND_obj.predict(input_data) \n",
    "    print(input_data, \" = \", logical_val, \"\\n\") "
   ]
  },
  {
   "cell_type": "code",
   "execution_count": 9,
   "id": "98492194",
   "metadata": {},
   "outputs": [
    {
     "name": "stdout",
     "output_type": "stream",
     "text": [
      "Initial error value =  3.0833600659191673\n",
      "step =  0 error value =  3.0745312602270354\n",
      "step =  400 error value =  2.77470666427972\n",
      "step =  800 error value =  2.773172615177304\n",
      "step =  1200 error value =  2.772751505172463\n",
      "step =  1600 error value =  2.772633995508912\n",
      "step =  2000 error value =  2.772600941154325\n",
      "step =  2400 error value =  2.7725916067749954\n",
      "step =  2800 error value =  2.772588965800476\n",
      "step =  3200 error value =  2.7725882179110295\n",
      "step =  3600 error value =  2.7725880060265196\n",
      "step =  4000 error value =  2.7725879459850886\n",
      "step =  4400 error value =  2.7725879289695468\n",
      "step =  4800 error value =  2.772587924147171\n",
      "step =  5200 error value =  2.7725879227804313\n",
      "step =  5600 error value =  2.77258792239307\n",
      "step =  6000 error value =  2.772587922283284\n",
      "step =  6400 error value =  2.7725879222521685\n",
      "step =  6800 error value =  2.77258792224335\n",
      "step =  7200 error value =  2.7725879222408496\n",
      "step =  7600 error value =  2.7725879222401413\n",
      "step =  8000 error value =  2.772587922239941\n"
     ]
    }
   ],
   "source": [
    "xdata = np.array([ [0, 0], [0, 1], [1, 0], [1, 1] ])\n",
    "tdata = np.array([0, 1, 1, 0])\n",
    "\n",
    "\n",
    "XOR_obj = LogicGate(\"XOR_GATE\", xdata, tdata)\n",
    "\n",
    "# XOR Gate 를 보면, 손실함수 값이 2.7 근처에서 더 이상 감소하지 않는것을 볼수 있음\n",
    "XOR_obj.train()"
   ]
  },
  {
   "cell_type": "code",
   "execution_count": 11,
   "id": "8cf3a3f6",
   "metadata": {},
   "outputs": [
    {
     "name": "stdout",
     "output_type": "stream",
     "text": [
      "XOR_GATE \n",
      "\n",
      "[0 0]  =  1 \n",
      "\n",
      "[0 1]  =  1 \n",
      "\n",
      "[1 0]  =  1 \n",
      "\n",
      "[1 1]  =  0 \n",
      "\n"
     ]
    }
   ],
   "source": [
    "# XOR Gate prediction => 예측이 되지 않음\n",
    "print(XOR_obj.name, \"\\n\")\n",
    "\n",
    "test_data = np.array([ [0, 0], [0, 1], [1, 0], [1, 1] ])\n",
    "\n",
    "for input_data in test_data:\n",
    "    (sigmoid_val, logical_val) = XOR_obj.predict(input_data) \n",
    "    print(input_data, \" = \", logical_val, \"\\n\")  "
   ]
  },
  {
   "cell_type": "code",
   "execution_count": 12,
   "id": "6ac27a44",
   "metadata": {},
   "outputs": [
    {
     "name": "stdout",
     "output_type": "stream",
     "text": [
      "[0 0]  =  0\n",
      "\n",
      "[0 1]  =  1\n",
      "\n",
      "[1 0]  =  1\n",
      "\n",
      "[1 1]  =  0\n",
      "\n"
     ]
    }
   ],
   "source": [
    "# XOR 을 NAND + OR => AND 조합으로 계산함\n",
    "input_data = np.array([ [0, 0], [0, 1], [1, 0], [1, 1] ])\n",
    "\n",
    "s1 = []    # NAND 출력\n",
    "s2 = []    # OR 출력\n",
    "\n",
    "new_input_data = []  # AND 입력\n",
    "final_output = []    # AND 출력\n",
    "\n",
    "for index in range(len(input_data)):\n",
    "    \n",
    "    s1 = NAND_obj.predict(input_data[index])  # NAND 출력\n",
    "    s2 = OR_obj.predict(input_data[index])    # OR 출력\n",
    "    \n",
    "    new_input_data.append(s1[-1])    # AND 입력\n",
    "    new_input_data.append(s2[-1])    # AND 입력\n",
    "    \n",
    "    (sigmoid_val, logical_val) = AND_obj.predict(np.array(new_input_data))\n",
    "    \n",
    "    final_output.append(logical_val)    # AND 출력, 즉 XOR 출력    \n",
    "    new_input_data = []    # AND 입력 초기화\n",
    "\n",
    "\n",
    "for index in range(len(input_data)):    \n",
    "    print(input_data[index], \" = \", final_output[index], end='')\n",
    "    print(\"\\n\")"
   ]
  },
  {
   "cell_type": "code",
   "execution_count": null,
   "id": "2e2b0ff1",
   "metadata": {},
   "outputs": [],
   "source": []
  }
 ],
 "metadata": {
  "kernelspec": {
   "display_name": "Python 3 (ipykernel)",
   "language": "python",
   "name": "python3"
  },
  "language_info": {
   "codemirror_mode": {
    "name": "ipython",
    "version": 3
   },
   "file_extension": ".py",
   "mimetype": "text/x-python",
   "name": "python",
   "nbconvert_exporter": "python",
   "pygments_lexer": "ipython3",
   "version": "3.9.12"
  }
 },
 "nbformat": 4,
 "nbformat_minor": 5
}
