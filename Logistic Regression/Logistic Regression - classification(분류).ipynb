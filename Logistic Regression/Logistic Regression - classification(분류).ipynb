{
 "cells": [
  {
   "cell_type": "markdown",
   "id": "9d75b284",
   "metadata": {},
   "source": [
    "## 입력변수 1개"
   ]
  },
  {
   "cell_type": "code",
   "execution_count": 1,
   "id": "c335d602",
   "metadata": {},
   "outputs": [],
   "source": [
    "import numpy as np\n",
    "\n",
    "x_data = np.array([2,4,6,8,10,12,14,16,18,20]).reshape(10,1)\n",
    "t_data = np.array([0,0,0,0,0,0,1,1,1,1,]).reshape(10,1)"
   ]
  },
  {
   "cell_type": "code",
   "execution_count": 2,
   "id": "77dca5e6",
   "metadata": {},
   "outputs": [
    {
     "name": "stdout",
     "output_type": "stream",
     "text": [
      "[[0.89066521]] (1, 1) [0.98309878] (1,)\n"
     ]
    }
   ],
   "source": [
    "W = np.random.rand(1,1)\n",
    "b = np.random.rand(1)\n",
    "\n",
    "print(W, W.shape, b, b.shape)"
   ]
  },
  {
   "cell_type": "code",
   "execution_count": 3,
   "id": "5306f055",
   "metadata": {},
   "outputs": [],
   "source": [
    "def sigmoid(x):\n",
    "    return 1/(1+np.exp(-x))\n",
    "\n",
    "def loss_func(x, t):\n",
    "    \n",
    "    delta = 1e-7 # log 무한대 발산 방지(입력값 0 안되게)\n",
    "    \n",
    "    z = np.dot(x,W) + b\n",
    "    y = sigmoid(z)\n",
    "    \n",
    "    # cross-entropy\n",
    "    return -np.sum(t*np.log(y + delta) + (1-t)*np.log((1-y)+delta))"
   ]
  },
  {
   "cell_type": "code",
   "execution_count": 5,
   "id": "2cddc478",
   "metadata": {},
   "outputs": [],
   "source": [
    "def numerical_derivative(f,x):\n",
    "    delta_x = 1e-4 # 0.0001\n",
    "    grad = np.zeros_like(x)\n",
    "    \n",
    "    it = np.nditer(x, flags = ['multi_index'], op_flags = ['readwrite'])\n",
    "    \n",
    "    while not it.finished:\n",
    "        idx = it.multi_index\n",
    "        tmp_val = x[idx]\n",
    "        x[idx] = float(tmp_val) + delta_x\n",
    "        fx1 = f(x) # f(x+delta_x)\n",
    "        \n",
    "        x[idx]  = tmp_val - delta_x\n",
    "        fx2 = f(x) # f(x-delta_x)\n",
    "        grad[idx] = (fx1 - fx2) / (2*delta_x)\n",
    "        \n",
    "        x[idx] = tmp_val\n",
    "        it.iternext()\n",
    "        \n",
    "    return grad\n",
    "        \n",
    "        \n",
    "        "
   ]
  },
  {
   "cell_type": "code",
   "execution_count": 6,
   "id": "60c0e695",
   "metadata": {},
   "outputs": [],
   "source": [
    "def predict(x):\n",
    "    \n",
    "    z = np.dot(x,W) + b\n",
    "    y = sigmoid(z)\n",
    "    \n",
    "    if y > 0.5:\n",
    "        result = 1 #True\n",
    "    else:\n",
    "        result = 0 #False\n",
    "        \n",
    "    return y, result\n"
   ]
  },
  {
   "cell_type": "code",
   "execution_count": 10,
   "id": "bd27f1d2",
   "metadata": {},
   "outputs": [
    {
     "name": "stdout",
     "output_type": "stream",
     "text": [
      "initial error value =  25.698460497920124 initial W =  [[0.47402479]] \n",
      "  , b =  [0.92524798]\n",
      "step =  0 error value =  9.880748708104118 W =  [[0.06164088]] , b =  [0.88257421]\n",
      "step =  400 error value =  3.2553732945448375 W =  [[0.43554418]] , b =  [-4.07859269]\n",
      "step =  800 error value =  1.7893736564514258 W =  [[0.4519302]] , b =  [-5.6219586]\n",
      "step =  1200 error value =  1.5211612692637129 W =  [[0.52961814]] , b =  [-6.65647451]\n",
      "step =  1600 error value =  1.354600202636975 W =  [[0.59107112]] , b =  [-7.47255548]\n",
      "step =  2000 error value =  1.2375534391423106 W =  [[0.64271448]] , b =  [-8.15686222]\n",
      "step =  2400 error value =  1.149040100919696 W =  [[0.6877068]] , b =  [-8.75197661]\n",
      "step =  2800 error value =  1.0787745582280979 W =  [[0.72785204]] , b =  [-9.28219683]\n",
      "step =  3200 error value =  1.0210388889618958 W =  [[0.76428529]] , b =  [-9.76279538]\n",
      "step =  3600 error value =  0.9723633918542193 W =  [[0.79777101]] , b =  [-10.20404661]\n",
      "step =  4000 error value =  0.9305018410889719 W =  [[0.82885071]] , b =  [-10.61322028]\n",
      "step =  4400 error value =  0.8939257601467753 W =  [[0.85792322]] , b =  [-10.99566479]\n",
      "step =  4800 error value =  0.8615530723912793 W =  [[0.88529154]] , b =  [-11.35543926]\n",
      "step =  5200 error value =  0.8325926398242853 W =  [[0.91119178]] , b =  [-11.69570336]\n",
      "step =  5600 error value =  0.8064503580061846 W =  [[0.93581179]] , b =  [-12.01896903]\n",
      "step =  6000 error value =  0.7826699043857585 W =  [[0.95930377]] , b =  [-12.32726917]\n",
      "step =  6400 error value =  0.7608939577685286 W =  [[0.98179284]] , b =  [-12.6222742]\n",
      "step =  6800 error value =  0.7408380121971224 W =  [[1.00338331]] , b =  [-12.905375]\n",
      "step =  7200 error value =  0.7222722131145639 W =  [[1.02416307]] , b =  [-13.17774308]\n",
      "step =  7600 error value =  0.7050084594042413 W =  [[1.04420697]] , b =  [-13.44037531]\n",
      "step =  8000 error value =  0.6888910539977281 W =  [[1.06357932]] , b =  [-13.69412763]\n",
      "step =  8400 error value =  0.673789801835786 W =  [[1.08233582]] , b =  [-13.93974098]\n",
      "step =  8800 error value =  0.6595948308114157 W =  [[1.10052507]] , b =  [-14.17786138]\n",
      "step =  9200 error value =  0.6462126482689988 W =  [[1.11818975]] , b =  [-14.4090559]\n",
      "step =  9600 error value =  0.6335630983333272 W =  [[1.13536757]] , b =  [-14.63382521]\n",
      "step =  10000 error value =  0.6215769859474384 W =  [[1.15209201]] , b =  [-14.85261383]\n"
     ]
    }
   ],
   "source": [
    "learning_rate = 1e-2 # 발산하는 경우, 1e-3, 1e-6 등으로 바꾸어서 실행\n",
    "\n",
    "f = lambda x : loss_func(x_data, t_data) # f(x) = loss_func(x_data, t_data)\n",
    "\n",
    "print(\"initial error value = \", loss_func(x_data,t_data), \"initial W = \", W, \"\\n\", \" , b = \", b)\n",
    "\n",
    "for step in range(10001):\n",
    "    \n",
    "    W -= learning_rate*numerical_derivative(f, W)\n",
    "    b -= learning_rate*numerical_derivative(f, b)\n",
    "    \n",
    "    if(step%400 == 0):\n",
    "        print(\"step = \", step, \"error value = \", loss_func(x_data, t_data), \"W = \", W, \", b = \", b)"
   ]
  },
  {
   "cell_type": "code",
   "execution_count": 11,
   "id": "e47d0d0a",
   "metadata": {},
   "outputs": [
    {
     "name": "stdout",
     "output_type": "stream",
     "text": [
      "[[1.12364337e-05]] 0\n"
     ]
    }
   ],
   "source": [
    "(real_val , logical_val) = predict(3)\n",
    "\n",
    "print(real_val, logical_val)"
   ]
  },
  {
   "cell_type": "code",
   "execution_count": 12,
   "id": "2099955b",
   "metadata": {},
   "outputs": [
    {
     "name": "stdout",
     "output_type": "stream",
     "text": [
      "[[0.9912763]] 1\n"
     ]
    }
   ],
   "source": [
    "(real_val , logical_val) = predict(17)\n",
    "\n",
    "print(real_val, logical_val)"
   ]
  },
  {
   "cell_type": "code",
   "execution_count": null,
   "id": "a0124843",
   "metadata": {},
   "outputs": [],
   "source": []
  }
 ],
 "metadata": {
  "kernelspec": {
   "display_name": "Python 3 (ipykernel)",
   "language": "python",
   "name": "python3"
  },
  "language_info": {
   "codemirror_mode": {
    "name": "ipython",
    "version": 3
   },
   "file_extension": ".py",
   "mimetype": "text/x-python",
   "name": "python",
   "nbconvert_exporter": "python",
   "pygments_lexer": "ipython3",
   "version": "3.9.12"
  }
 },
 "nbformat": 4,
 "nbformat_minor": 5
}
