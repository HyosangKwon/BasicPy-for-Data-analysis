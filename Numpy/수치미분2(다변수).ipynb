{
 "cells": [
  {
   "cell_type": "markdown",
   "id": "8a2f54b6",
   "metadata": {},
   "source": [
    "* 입력 변수가 하나 이상인 다변수 함수의 경우, 입력변수는 서로 독립적이기 때문에 수치미분 또한 변수의 개수만큼 개별적으로 계산하여야 함"
   ]
  },
  {
   "cell_type": "code",
   "execution_count": 9,
   "id": "c3c5ed32",
   "metadata": {},
   "outputs": [],
   "source": [
    "import numpy as np\n",
    "\n",
    "def numerical_derivative(f,x):\n",
    "# f = 다변수함수, x = 모든 변수 포함나는 numpy 객체(배열, 행렬...)\n",
    "    delta_x = 1e-4\n",
    "    grad = np.zeros_like(x) # 계산된 수치미분 값 저장 변수\n",
    "    print(\"debug 1. initial input variable =\", x)\n",
    "    print(\"debug 2. initial grad =\", grad)\n",
    "    print(\"======================================\")\n",
    "    \n",
    "    \n",
    "    it = np.nditer(x, flags = ['multi_index'], op_flags = ['readwrite'])\n",
    "    # 모든 입력변수에 대해 편미분하기 위해 iterator 획득\n",
    "    \n",
    "    while not it.finished:\n",
    "        idx = it.multi_index\n",
    "        \n",
    "        print(\"debug 3. idx = \", idx, \", x[idx] = \", x[idx])\n",
    "        \n",
    "        tmp_val = x[idx] # 원래 값 보관 (numpy 타입은 mutable이기 때문)\n",
    "        x[idx] = float(tmp_val) + delta_x\n",
    "        fx1 = f(x) # f(x+delta_x)\n",
    "        \n",
    "        x[idx] = tmp_val - delta_x\n",
    "        fx2 = f(x) # f(x-delta_x)\n",
    "        grad[idx] = (fx1 - fx2) / (2*delta_x)\n",
    "        \n",
    "        print(\"debug 4. grad[idx] =\", grad[idx])\n",
    "        print(\"debug 5. grad =\", grad)\n",
    "        print(\"======================================\")\n",
    "        \n",
    "        x[idx] = tmp_val\n",
    "        it.iternext()\n",
    "        \n",
    "    return grad\n",
    "        "
   ]
  },
  {
   "cell_type": "markdown",
   "id": "502453e3",
   "metadata": {},
   "source": [
    "## 예제"
   ]
  },
  {
   "cell_type": "markdown",
   "id": "30421e46",
   "metadata": {},
   "source": [
    "* 1변수 함수 \n",
    "> f(x) = x^2 / f'(3) "
   ]
  },
  {
   "cell_type": "code",
   "execution_count": 10,
   "id": "3e8d35f3",
   "metadata": {},
   "outputs": [],
   "source": [
    "def func1(input_obj):\n",
    "    x = input_obj[0]\n",
    "    \n",
    "    return x**2"
   ]
  },
  {
   "cell_type": "code",
   "execution_count": 11,
   "id": "68d3734a",
   "metadata": {},
   "outputs": [
    {
     "name": "stdout",
     "output_type": "stream",
     "text": [
      "debug 1. initial input variable = [3.]\n",
      "debug 2. initial grad = [0.]\n",
      "======================================\n",
      "debug 3. idx =  (0,) , x[idx] =  3.0\n",
      "debug 4. grad[idx] = 6.000000000012662\n",
      "debug 5. grad = [6.]\n",
      "======================================\n"
     ]
    },
    {
     "data": {
      "text/plain": [
       "array([6.])"
      ]
     },
     "execution_count": 11,
     "metadata": {},
     "output_type": "execute_result"
    }
   ],
   "source": [
    "numerical_derivative(func1, np.array([3.0]))"
   ]
  },
  {
   "cell_type": "markdown",
   "id": "59442a48",
   "metadata": {},
   "source": [
    "* 2변수 함수\n",
    "> f(x,y) = 2x + 3xy + y^3 / f'(1.0, 2.0)"
   ]
  },
  {
   "cell_type": "code",
   "execution_count": 13,
   "id": "4571b54b",
   "metadata": {},
   "outputs": [],
   "source": [
    "# 입력변수 2개인 함수 선언(x,y)\n",
    "def func2(input_obj):\n",
    "    \n",
    "    x = input_obj[0]\n",
    "    y = input_obj[1]\n",
    "    \n",
    "    return (2*x + 3*x*y + np.power(y,3))"
   ]
  },
  {
   "cell_type": "code",
   "execution_count": 14,
   "id": "4b2e0159",
   "metadata": {},
   "outputs": [
    {
     "name": "stdout",
     "output_type": "stream",
     "text": [
      "debug 1. initial input variable = [1. 2.]\n",
      "debug 2. initial grad = [0. 0.]\n",
      "======================================\n",
      "debug 3. idx =  (0,) , x[idx] =  1.0\n",
      "debug 4. grad[idx] = 7.999999999990237\n",
      "debug 5. grad = [8. 0.]\n",
      "======================================\n",
      "debug 3. idx =  (1,) , x[idx] =  2.0\n",
      "debug 4. grad[idx] = 15.000000010019221\n",
      "debug 5. grad = [ 8.         15.00000001]\n",
      "======================================\n"
     ]
    },
    {
     "data": {
      "text/plain": [
       "array([ 8.        , 15.00000001])"
      ]
     },
     "execution_count": 14,
     "metadata": {},
     "output_type": "execute_result"
    }
   ],
   "source": [
    "#(x,y) = (1.0, 2.0) 에서의 편미분 값\n",
    "input = np.array([1.0, 2.0])\n",
    "numerical_derivative(func2, input)"
   ]
  },
  {
   "cell_type": "markdown",
   "id": "ef7acbde",
   "metadata": {},
   "source": [
    "* 4변수 함수\n",
    "> f(w,x,y,z) = wx + xyz + 3w + zy^2 / f'(1.0, 2.0, 3.0, 4.0)"
   ]
  },
  {
   "cell_type": "code",
   "execution_count": 15,
   "id": "5f23f873",
   "metadata": {},
   "outputs": [],
   "source": [
    "# 입력변수 4개인 함수\n",
    "def func3(input_obj):\n",
    "    \n",
    "    w = input_obj[0,0]\n",
    "    x = input_obj[0,1]\n",
    "    y = input_obj[1,0]\n",
    "    z = input_obj[1,1]\n",
    "    \n",
    "    return (w*x + x*y*z + 3*w + z*np.power(y,2))"
   ]
  },
  {
   "cell_type": "code",
   "execution_count": 16,
   "id": "30a85759",
   "metadata": {},
   "outputs": [
    {
     "name": "stdout",
     "output_type": "stream",
     "text": [
      "debug 1. initial input variable = [[1. 2.]\n",
      " [3. 4.]]\n",
      "debug 2. initial grad = [[0. 0.]\n",
      " [0. 0.]]\n",
      "======================================\n",
      "debug 3. idx =  (0, 0) , x[idx] =  1.0\n",
      "debug 4. grad[idx] = 5.000000000023874\n",
      "debug 5. grad = [[5. 0.]\n",
      " [0. 0.]]\n",
      "======================================\n",
      "debug 3. idx =  (0, 1) , x[idx] =  2.0\n",
      "debug 4. grad[idx] = 13.00000000000523\n",
      "debug 5. grad = [[ 5. 13.]\n",
      " [ 0.  0.]]\n",
      "======================================\n",
      "debug 3. idx =  (1, 0) , x[idx] =  3.0\n",
      "debug 4. grad[idx] = 32.00000000006753\n",
      "debug 5. grad = [[ 5. 13.]\n",
      " [32.  0.]]\n",
      "======================================\n",
      "debug 3. idx =  (1, 1) , x[idx] =  4.0\n",
      "debug 4. grad[idx] = 15.000000000000568\n",
      "debug 5. grad = [[ 5. 13.]\n",
      " [32. 15.]]\n",
      "======================================\n"
     ]
    },
    {
     "data": {
      "text/plain": [
       "array([[ 5., 13.],\n",
       "       [32., 15.]])"
      ]
     },
     "execution_count": 16,
     "metadata": {},
     "output_type": "execute_result"
    }
   ],
   "source": [
    "# 입력을 2x2 행렬로 구성함\n",
    "input = np.array([[1.0, 2.0], [3.0, 4.0]])\n",
    "\n",
    "numerical_derivative(func3, input)"
   ]
  },
  {
   "cell_type": "code",
   "execution_count": null,
   "id": "d448aa40",
   "metadata": {},
   "outputs": [],
   "source": []
  },
  {
   "cell_type": "code",
   "execution_count": null,
   "id": "acc46bd7",
   "metadata": {},
   "outputs": [],
   "source": []
  },
  {
   "cell_type": "code",
   "execution_count": null,
   "id": "05d8e4ab",
   "metadata": {},
   "outputs": [],
   "source": []
  },
  {
   "cell_type": "code",
   "execution_count": null,
   "id": "70611c03",
   "metadata": {},
   "outputs": [],
   "source": []
  }
 ],
 "metadata": {
  "kernelspec": {
   "display_name": "Python 3 (ipykernel)",
   "language": "python",
   "name": "python3"
  },
  "language_info": {
   "codemirror_mode": {
    "name": "ipython",
    "version": 3
   },
   "file_extension": ".py",
   "mimetype": "text/x-python",
   "name": "python",
   "nbconvert_exporter": "python",
   "pygments_lexer": "ipython3",
   "version": "3.9.12"
  }
 },
 "nbformat": 4,
 "nbformat_minor": 5
}
