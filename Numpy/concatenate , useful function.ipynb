{
 "cells": [
  {
   "cell_type": "markdown",
   "id": "a8b48eeb",
   "metadata": {},
   "source": [
    "## concatenate"
   ]
  },
  {
   "cell_type": "markdown",
   "id": "6cbbefa7",
   "metadata": {},
   "source": [
    "* 행렬에 행(row) 또는 열(column) 추가하기 위한 함수\n",
    "* 머신러닝의 회귀(regression)코드 구현시 가중치(weight)와 바이어스(bias)를 별도로 구분하지 않고 하나의 행렬로 취급하기 위한 프로그래밍 구현 기술"
   ]
  },
  {
   "cell_type": "code",
   "execution_count": 5,
   "id": "4c1363d3",
   "metadata": {},
   "outputs": [
    {
     "name": "stdout",
     "output_type": "stream",
     "text": [
      "(2, 3)\n",
      "(2, 1)\n",
      "[[10 20 30]\n",
      " [40 50 60]\n",
      " [70 80 90]]\n",
      "[[  10   20   30 1000]\n",
      " [  40   50   60 2000]]\n"
     ]
    }
   ],
   "source": [
    "import numpy as np\n",
    "\n",
    "A = np.array([[10, 20, 30], [40,50,60]])\n",
    "\n",
    "print(A.shape)\n",
    "\n",
    "# 1행 3열로 reshape\n",
    "row_add = np.array([70,80,90]).reshape(1,3)\n",
    "\n",
    "column_add = np.array([1000,2000]).reshape(2,1)\n",
    "print(column_add.shape)\n",
    "\n",
    "# axis = 0 행(row) 기준\n",
    "B = np.concatenate((A,row_add), axis=0)\n",
    "\n",
    "print(B)\n",
    "\n",
    "\n",
    "# axis = 1 열(column) 기준\n",
    "C = np.concatenate((A, column_add), axis=1)\n",
    "\n",
    "print(C)"
   ]
  },
  {
   "cell_type": "markdown",
   "id": "afab93d3",
   "metadata": {},
   "source": [
    "## numpy.loadtxt"
   ]
  },
  {
   "cell_type": "markdown",
   "id": "8d232f47",
   "metadata": {},
   "source": [
    "* seperator로 구분된 파일에서 데이터를 읽기위한 함수"
   ]
  },
  {
   "cell_type": "code",
   "execution_count": null,
   "id": "5cfb1515",
   "metadata": {},
   "outputs": [],
   "source": [
    "loaded_data = np.loadtxt('../data-01.csv', delimiter=',', dtype=np.float32)\n",
    "\n",
    "x_data = loaded_data[ :, 0:-1]\n",
    "t_data = loaded_data[ :, [-1]]\n",
    "\n",
    "# 데이터 차원 및 shape 확인\n",
    "print(\"x_data.ndim = \", x_data.ndim, \", x_data.shape = \", x_data.shape)\n",
    "print(\"t_data.ndim = \", t_data.ndim, \", t_data.shape = \", t_data.shape)"
   ]
  },
  {
   "cell_type": "markdown",
   "id": "5f8ea1b4",
   "metadata": {},
   "source": [
    "## numpy.random.rand"
   ]
  },
  {
   "cell_type": "markdown",
   "id": "86818b1a",
   "metadata": {},
   "source": [
    "* 0과 1사이의 임의의 실수값 발생"
   ]
  },
  {
   "cell_type": "code",
   "execution_count": 13,
   "id": "76919a51",
   "metadata": {},
   "outputs": [
    {
     "name": "stdout",
     "output_type": "stream",
     "text": [
      "[0.1876996  0.04570141 0.0142081 ]\n",
      "[[0.42710694 0.42598684 0.98961518]]\n",
      "[[0.68823941]\n",
      " [0.68835037]\n",
      " [0.63752315]]\n"
     ]
    }
   ],
   "source": [
    "random_number1 = np.random.rand(3)\n",
    "random_number2 = np.random.rand(1,3)\n",
    "random_number3 = np.random.rand(3,1)\n",
    "\n",
    "print(random_number1)\n",
    "print(random_number2)\n",
    "print(random_number3)"
   ]
  },
  {
   "cell_type": "markdown",
   "id": "a5808f28",
   "metadata": {},
   "source": [
    "## numpy.sum(...) / numpy.exp(...) / numpy.log(...)"
   ]
  },
  {
   "cell_type": "code",
   "execution_count": 15,
   "id": "b551e78f",
   "metadata": {},
   "outputs": [
    {
     "name": "stdout",
     "output_type": "stream",
     "text": [
      "20\n",
      "[   7.3890561    54.59815003  403.42879349 2980.95798704]\n",
      "[0.69314718 1.38629436 1.79175947 2.07944154]\n"
     ]
    }
   ],
   "source": [
    "X = np.array([2,4,6,8])\n",
    "\n",
    "print(np.sum(X))\n",
    "print(np.exp(X))\n",
    "print(np.log(X))"
   ]
  },
  {
   "cell_type": "markdown",
   "id": "707dd3e4",
   "metadata": {},
   "source": [
    "## numpy.max() / numpy.min() / numpy.argmax() / numpy.argmin()"
   ]
  },
  {
   "cell_type": "code",
   "execution_count": 16,
   "id": "859a6c69",
   "metadata": {},
   "outputs": [
    {
     "name": "stdout",
     "output_type": "stream",
     "text": [
      "np.max(X) == 8\n",
      "np.min(X) == 2\n",
      "np.argmax(X) == 3\n",
      "np.argmin(X) == 0\n"
     ]
    }
   ],
   "source": [
    "X = np.array([2, 4, 6, 8]) \n",
    "\n",
    "print(\"np.max(X) ==\", np.max(X)) \n",
    "print(\"np.min(X) ==\", np.min(X))\n",
    "print(\"np.argmax(X) ==\", np.argmax(X)) # 최대값의 index\n",
    "print(\"np.argmin(X) ==\", np.argmin(X)) # 최소값의 index"
   ]
  },
  {
   "cell_type": "code",
   "execution_count": 17,
   "id": "5a86af9e",
   "metadata": {},
   "outputs": [
    {
     "name": "stdout",
     "output_type": "stream",
     "text": [
      "np.max(X) == [2 5 8]\n",
      "np.min(X) == [0 2 3]\n",
      "np.max(X) == [6 3 8]\n",
      "np.min(X) == [2 1 0]\n",
      "np.argmax(X) == [0 2 2]\n",
      "np.argmin(X) == [2 1 1]\n",
      "np.argmax(X) == [2 2 2]\n",
      "np.argmin(X) == [0 0 0]\n"
     ]
    }
   ],
   "source": [
    "X = np.array([ [2, 4, 6], [1, 2, 3], [0, 5, 8] ]) \n",
    "\n",
    "print(\"np.max(X) ==\", np.max(X, axis=0)) # axis=0, 열기준\n",
    "print(\"np.min(X) ==\", np.min(X, axis=0)) # axis=0, 열기준\n",
    "\n",
    "print(\"np.max(X) ==\", np.max(X, axis=1)) # axis=1, 행기준\n",
    "print(\"np.min(X) ==\", np.min(X, axis=1)) # axis=1, 행기준\n",
    "\n",
    "print(\"np.argmax(X) ==\", np.argmax(X, axis=0)) # axis=0, 열기준\n",
    "print(\"np.argmin(X) ==\", np.argmin(X, axis=0)) # axis=0, 열기준\n",
    "\n",
    "print(\"np.argmax(X) ==\", np.argmax(X, axis=1)) # axis=1, 행기준\n",
    "print(\"np.argmin(X) ==\", np.argmin(X, axis=1)) # axis=1, 행기준\n",
    "\n"
   ]
  },
  {
   "cell_type": "markdown",
   "id": "b8b529c0",
   "metadata": {},
   "source": [
    "## numpy.ones() / numpy.zeros()\n",
    "\n",
    "* 주어진 형상의 함수롤 모두 1 / 0 으로 채움"
   ]
  },
  {
   "cell_type": "code",
   "execution_count": 18,
   "id": "4b5e8112",
   "metadata": {},
   "outputs": [
    {
     "name": "stdout",
     "output_type": "stream",
     "text": [
      "[[1. 1. 1.]\n",
      " [1. 1. 1.]\n",
      " [1. 1. 1.]]\n",
      "[[0. 0.]\n",
      " [0. 0.]\n",
      " [0. 0.]]\n"
     ]
    }
   ],
   "source": [
    "A = np.ones([3,3])\n",
    "\n",
    "print(A)\n",
    "\n",
    "B = np.zeros([3,2])\n",
    "\n",
    "print(B)"
   ]
  },
  {
   "cell_type": "markdown",
   "id": "fd4ecf13",
   "metadata": {},
   "source": [
    "## matplotlib - scatter plot"
   ]
  },
  {
   "cell_type": "code",
   "execution_count": 19,
   "id": "a8e2385c",
   "metadata": {},
   "outputs": [
    {
     "data": {
      "image/png": "[encoded data removed]",
      "text/plain": [
       "<Figure size 432x288 with 1 Axes>"
      ]
     },
     "metadata": {
      "needs_background": "light"
     },
     "output_type": "display_data"
    }
   ],
   "source": [
    "import matplotlib.pyplot as plt\n",
    "\n",
    "# 주피터 노트북을 사용하는 경우 노트북 내부에 그림 표시\n",
    "%matplotlib inline \n",
    "\n",
    "# x data,  y data 생성\n",
    "x_data = np.random.rand(100)\n",
    "y_data = np.random.rand(100) \n",
    "\n",
    "plt.title('scatter plot')\n",
    "plt.grid() \n",
    "plt.scatter(x_data, y_data, color='b', marker='o') \n",
    "plt.show() \n"
   ]
  },
  {
   "cell_type": "code",
   "execution_count": 22,
   "id": "e6a7feec",
   "metadata": {},
   "outputs": [
    {
     "data": {
      "image/png": "[encoded data removed]",
      "text/plain": [
       "<Figure size 432x288 with 1 Axes>"
      ]
     },
     "metadata": {
      "needs_background": "light"
     },
     "output_type": "display_data"
    }
   ],
   "source": [
    "# 주피터 노트북을 사용하는 경우 노트북 내부에 그림 표시\n",
    "%matplotlib inline \n",
    "\n",
    "x_data = [ x for x in range(-5,5) ] \n",
    "y_data = [ y*y for y in range(-5,5) ] \n",
    "\n",
    "plt.title('line plot')\n",
    "plt.grid() \n",
    "plt.plot(x_data, y_data ,color='b') \n",
    "plt.show() \n",
    "\n"
   ]
  },
  {
   "cell_type": "code",
   "execution_count": null,
   "id": "c7e47411",
   "metadata": {},
   "outputs": [],
   "source": []
  },
  {
   "cell_type": "code",
   "execution_count": null,
   "id": "e9ebdad2",
   "metadata": {},
   "outputs": [],
   "source": []
  }
 ],
 "metadata": {
  "kernelspec": {
   "display_name": "Python 3 (ipykernel)",
   "language": "python",
   "name": "python3"
  },
  "language_info": {
   "codemirror_mode": {
    "name": "ipython",
    "version": 3
   },
   "file_extension": ".py",
   "mimetype": "text/x-python",
   "name": "python",
   "nbconvert_exporter": "python",
   "pygments_lexer": "ipython3",
   "version": "3.9.12"
  }
 },
 "nbformat": 4,
 "nbformat_minor": 5
}
