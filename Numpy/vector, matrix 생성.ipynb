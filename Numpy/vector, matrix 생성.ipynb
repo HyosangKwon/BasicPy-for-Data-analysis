{
 "cells": [
  {
   "cell_type": "markdown",
   "id": "896f12b7",
   "metadata": {},
   "source": [
    "## 파이썬 코드에서 라이브러리 사용법"
   ]
  },
  {
   "cell_type": "markdown",
   "id": "8597a276",
   "metadata": {},
   "source": [
    "* 라이브러리에 별명 지정"
   ]
  },
  {
   "cell_type": "code",
   "execution_count": 2,
   "id": "c1afa458",
   "metadata": {},
   "outputs": [
    {
     "name": "stdout",
     "output_type": "stream",
     "text": [
      "A == [1 2] , type == <class 'numpy.ndarray'>\n"
     ]
    }
   ],
   "source": [
    "import numpy as np\n",
    "\n",
    "A = np.array([1,2])\n",
    "\n",
    "print(\"A ==\", A, \", type ==\", type(A))"
   ]
  },
  {
   "cell_type": "markdown",
   "id": "c3655475",
   "metadata": {},
   "source": [
    "* 라이브러리에 api 골라서 사용"
   ]
  },
  {
   "cell_type": "code",
   "execution_count": 2,
   "id": "2e499e90",
   "metadata": {},
   "outputs": [
    {
     "name": "stdout",
     "output_type": "stream",
     "text": [
      "result == 2.718281828459045 , type == <class 'numpy.float64'>\n"
     ]
    }
   ],
   "source": [
    "from numpy import exp\n",
    "\n",
    "result = exp(1)\n",
    "\n",
    "print(\"result ==\", result, \", type ==\", type(result))"
   ]
  },
  {
   "cell_type": "markdown",
   "id": "15cb071e",
   "metadata": {},
   "source": [
    "* 라이브러리의 모든 api 사용"
   ]
  },
  {
   "cell_type": "code",
   "execution_count": 3,
   "id": "a929c0ab",
   "metadata": {},
   "outputs": [
    {
     "name": "stdout",
     "output_type": "stream",
     "text": [
      "result == 4.663123641894311 , type == <class 'numpy.float64'>\n"
     ]
    }
   ],
   "source": [
    "from numpy import *\n",
    "\n",
    "result = exp(1) + log(1.7) + sqrt(2)\n",
    "\n",
    "print(\"result ==\", result, \", type ==\", type(result))"
   ]
  },
  {
   "cell_type": "markdown",
   "id": "270a6cce",
   "metadata": {},
   "source": [
    "*****"
   ]
  },
  {
   "cell_type": "markdown",
   "id": "edb78353",
   "metadata": {},
   "source": [
    "## numpy vector(1차원 배열)"
   ]
  },
  {
   "cell_type": "code",
   "execution_count": 4,
   "id": "d2920979",
   "metadata": {},
   "outputs": [
    {
     "name": "stdout",
     "output_type": "stream",
     "text": [
      "A == [1 2 3] , B == [4 5 6]\n",
      "A.shape == (3,) , B.shape == (3,)\n",
      "A.ndim== 1 , B.ndim== 1\n"
     ]
    }
   ],
   "source": [
    "A = np.array([1,2,3])\n",
    "B = np.array([4,5,6])\n",
    "\n",
    "# vector A, B 출력\n",
    "print(\"A ==\", A, \", B ==\", B)\n",
    "\n",
    "# vector A, B 출력\n",
    "print(\"A.shape ==\", A.shape, \", B.shape ==\", B.shape)\n",
    "\n",
    "# vector A, B 차원 출력 => ndim\n",
    "print(\"A.ndim==\", A.ndim, \", B.ndim==\", B.ndim)"
   ]
  },
  {
   "cell_type": "markdown",
   "id": "904d5d81",
   "metadata": {},
   "source": [
    "* 벡터(vector) 산술연산\n",
    "\n",
    " => vector 간 산술연산은 벡터의 각각의 원소에 대해서 행해짐"
   ]
  },
  {
   "cell_type": "code",
   "execution_count": 5,
   "id": "e79b20a9",
   "metadata": {},
   "outputs": [
    {
     "name": "stdout",
     "output_type": "stream",
     "text": [
      "A + B == [5 7 9]\n",
      "A - B == [-3 -3 -3]\n",
      "A * B == [ 4 10 18]\n",
      "A / B == [0.25 0.4  0.5 ]\n"
     ]
    }
   ],
   "source": [
    "print(\"A + B ==\", A+B)\n",
    "print(\"A - B ==\", A-B)\n",
    "print(\"A * B ==\", A*B)\n",
    "print(\"A / B ==\", A/B)"
   ]
  },
  {
   "cell_type": "markdown",
   "id": "771ffbc3",
   "metadata": {},
   "source": [
    "## numpy matrix (행렬)"
   ]
  },
  {
   "cell_type": "markdown",
   "id": "06e24d73",
   "metadata": {},
   "source": [
    " => 하나의 행을 대괄호 []로 표현"
   ]
  },
  {
   "cell_type": "code",
   "execution_count": 3,
   "id": "a454853b",
   "metadata": {},
   "outputs": [
    {
     "name": "stdout",
     "output_type": "stream",
     "text": [
      "(2, 3) (2, 3) (3, 3)\n",
      "2 2 2\n"
     ]
    }
   ],
   "source": [
    "A = np.array([[1,2,3],[4,5,6]])\n",
    "B = np.array([[-1,-2,-3],[-4,-5,-6]])\n",
    "C = np.array([[1,2,3],[4,5,6],[7,8,9]])\n",
    "\n",
    "print(A.shape, B.shape, C.shape)\n",
    "print(A.ndim, B.ndim, C.ndim)"
   ]
  },
  {
   "cell_type": "code",
   "execution_count": 10,
   "id": "96bff8c5",
   "metadata": {},
   "outputs": [
    {
     "name": "stdout",
     "output_type": "stream",
     "text": [
      "(3,)\n",
      "(1, 3)\n"
     ]
    }
   ],
   "source": [
    "# vector 생성\n",
    "\n",
    "C = np.array([1,2,3])\n",
    "print(C.shape)\n",
    "C = C.reshape(1,3)\n",
    "print(C.shape)"
   ]
  },
  {
   "cell_type": "code",
   "execution_count": null,
   "id": "f5569561",
   "metadata": {},
   "outputs": [],
   "source": []
  }
 ],
 "metadata": {
  "kernelspec": {
   "display_name": "Python 3 (ipykernel)",
   "language": "python",
   "name": "python3"
  },
  "language_info": {
   "codemirror_mode": {
    "name": "ipython",
    "version": 3
   },
   "file_extension": ".py",
   "mimetype": "text/x-python",
   "name": "python",
   "nbconvert_exporter": "python",
   "pygments_lexer": "ipython3",
   "version": "3.9.12"
  }
 },
 "nbformat": 4,
 "nbformat_minor": 5
}
