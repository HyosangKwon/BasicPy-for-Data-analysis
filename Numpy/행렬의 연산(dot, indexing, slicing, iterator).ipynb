{
 "cells": [
  {
   "cell_type": "markdown",
   "id": "d4d55169",
   "metadata": {},
   "source": [
    "## dot product"
   ]
  },
  {
   "cell_type": "code",
   "execution_count": 1,
   "id": "2a97489c",
   "metadata": {},
   "outputs": [
    {
     "name": "stdout",
     "output_type": "stream",
     "text": [
      "[[-22 -28]\n",
      " [-49 -64]]\n"
     ]
    }
   ],
   "source": [
    "import numpy as np\n",
    "\n",
    "A = np.array([[1,2,3],\n",
    "              [4,5,6]])\n",
    "\n",
    "B = np.array([[-1,-2],\n",
    "              [-3,-4],\n",
    "              [-5,-6]])\n",
    "\n",
    "# (2x3) dot (3x2) == (2x2) 행렬\n",
    "C = np.dot(A,B)\n",
    "\n",
    "print(C)"
   ]
  },
  {
   "cell_type": "markdown",
   "id": "d491cace",
   "metadata": {},
   "source": [
    "* numpy broadcast\n",
    "> 크기가 다른 두 행렬간에도 사칙연산을 하게 해줌\n",
    ">>차원이 작은 쪽이 큰 쪽의 행 단위로 반복적으로 크기를 맞춘 후에 계산"
   ]
  },
  {
   "cell_type": "code",
   "execution_count": 3,
   "id": "ed7b4fd2",
   "metadata": {},
   "outputs": [
    {
     "name": "stdout",
     "output_type": "stream",
     "text": [
      "[[6 7]\n",
      " [8 9]]\n"
     ]
    }
   ],
   "source": [
    "A = np.array([[1,2], [3,4]])\n",
    "b = 5\n",
    "\n",
    "print(A+b)"
   ]
  },
  {
   "cell_type": "code",
   "execution_count": 2,
   "id": "c1ce06c3",
   "metadata": {},
   "outputs": [
    {
     "name": "stdout",
     "output_type": "stream",
     "text": [
      "2 1\n",
      "[[5 7]\n",
      " [7 9]]\n"
     ]
    }
   ],
   "source": [
    "C = np.array([[1,2],[3,4]])\n",
    "D = np.array([4,5])\n",
    "\n",
    "print(C.ndim, D.ndim)\n",
    "\n",
    "\n",
    "print(C+D)\n"
   ]
  },
  {
   "cell_type": "markdown",
   "id": "6259e5f1",
   "metadata": {},
   "source": [
    "## 전치행렬(transpose)"
   ]
  },
  {
   "cell_type": "code",
   "execution_count": 4,
   "id": "93363ad3",
   "metadata": {},
   "outputs": [
    {
     "name": "stdout",
     "output_type": "stream",
     "text": [
      "(3, 2) (2, 3)\n",
      "[[1 2]\n",
      " [3 4]\n",
      " [5 6]]\n",
      "[[1 3 5]\n",
      " [2 4 6]]\n"
     ]
    }
   ],
   "source": [
    "A = np.array([[1,2],[3,4],[5,6]]) # 3x2 행렬\n",
    "\n",
    "B = A.T # A의 전치행렬, 2x3행렬\n",
    "\n",
    "print(A.shape, B.shape)\n",
    "print(A)\n",
    "\n",
    "print(B)"
   ]
  },
  {
   "cell_type": "code",
   "execution_count": 6,
   "id": "02e18932",
   "metadata": {},
   "outputs": [
    {
     "name": "stdout",
     "output_type": "stream",
     "text": [
      "[1 2 3 4 5]\n",
      "[[1 2 3 4 5]]\n",
      "[[1]\n",
      " [2]\n",
      " [3]\n",
      " [4]\n",
      " [5]]\n"
     ]
    }
   ],
   "source": [
    "# vector 전치행렬\n",
    "C = np.array([1,2,3,4,5]) # vector, matrix 아님\n",
    "D = C.T\n",
    "\n",
    "print(D)\n",
    "\n",
    "E = C.reshape(1,5)\n",
    "F = E.T\n",
    "print(E)\n",
    "print(F)"
   ]
  },
  {
   "cell_type": "markdown",
   "id": "e919679f",
   "metadata": {},
   "source": [
    "## numpy 행렬 indexing / slicing"
   ]
  },
  {
   "cell_type": "code",
   "execution_count": 11,
   "id": "119c8ee1",
   "metadata": {},
   "outputs": [
    {
     "name": "stdout",
     "output_type": "stream",
     "text": [
      "(3, 2)\n",
      "[[10 20]\n",
      " [30 40]\n",
      " [50 60]]\n"
     ]
    }
   ],
   "source": [
    "A = np.array([10,20,30,40,50,60]).reshape(3,2)\n",
    "\n",
    "print(A.shape)\n",
    "print(A)"
   ]
  },
  {
   "cell_type": "code",
   "execution_count": 14,
   "id": "0c6a449f",
   "metadata": {},
   "outputs": [
    {
     "name": "stdout",
     "output_type": "stream",
     "text": [
      "10\n",
      "10\n",
      "60\n"
     ]
    }
   ],
   "source": [
    "print(A[0,0]) # 1행 1열 = 10\n",
    "print(A[0][0])\n",
    "\n",
    "print(A[2,1]) # 3행 2열 = 60"
   ]
  },
  {
   "cell_type": "code",
   "execution_count": 15,
   "id": "426e3c64",
   "metadata": {},
   "outputs": [
    {
     "name": "stdout",
     "output_type": "stream",
     "text": [
      "A[0:1, 1:2] == [[20]\n",
      " [40]]\n"
     ]
    }
   ],
   "source": [
    "print(\"A[0:1, 1:2] ==\", A[0:-1, 1:2])\n",
    "# 0부터 -2까지(-1-1)의 행, 1부터 1까지(2-1)의 열 만족하는 데이터\n"
   ]
  },
  {
   "cell_type": "code",
   "execution_count": 17,
   "id": "3089af36",
   "metadata": {},
   "outputs": [
    {
     "name": "stdout",
     "output_type": "stream",
     "text": [
      "[10 30 50]\n",
      "[[10 20]\n",
      " [30 40]\n",
      " [50 60]]\n"
     ]
    }
   ],
   "source": [
    "print(A[:,0]) # 모든 행, 첫번째 열\n",
    "print(A[:,:]) # 모든 행, 모든 열"
   ]
  },
  {
   "cell_type": "markdown",
   "id": "6d5359c6",
   "metadata": {},
   "source": [
    "## numpy 행렬 iterator"
   ]
  },
  {
   "cell_type": "markdown",
   "id": "b05276b2",
   "metadata": {},
   "source": [
    "* numpy iterator는 C++, Java iterator 처럼 next() 메서드를 통해 데이터 값을 처음부터 끝까지 순차적으로 읽어들이는 방법을 제공"
   ]
  },
  {
   "cell_type": "code",
   "execution_count": 21,
   "id": "393477c1",
   "metadata": {},
   "outputs": [
    {
     "name": "stdout",
     "output_type": "stream",
     "text": [
      "[[10 20 30 40]\n",
      " [50 60 70 80]] \n",
      "\n",
      "A.shape == (2, 4) \n",
      "\n",
      "current value => 10\n",
      "current value => 20\n",
      "current value => 30\n",
      "current value => 40\n",
      "current value => 50\n",
      "current value => 60\n",
      "current value => 70\n",
      "current value => 80\n"
     ]
    }
   ],
   "source": [
    "# iterator 예제\n",
    "\n",
    "A = np.array([ [10, 20, 30, 40], [50, 60, 70, 80] ]) \n",
    "\n",
    "print(A, \"\\n\") \n",
    "print(\"A.shape ==\", A.shape, \"\\n\") \n",
    "\n",
    "# 행렬 A 의 itrator 생성\n",
    "\n",
    "it = np.nditer(A, flags=['multi_index'], op_flags=['readwrite'])\n",
    "    \n",
    "while not it.finished:\n",
    "    \n",
    "    idx = it.multi_index\n",
    "    \n",
    "    print(\"current value =>\", A[idx])\n",
    "    \n",
    "    it.iternext()"
   ]
  },
  {
   "cell_type": "code",
   "execution_count": null,
   "id": "7686a212",
   "metadata": {},
   "outputs": [],
   "source": []
  },
  {
   "cell_type": "code",
   "execution_count": null,
   "id": "4d76649a",
   "metadata": {},
   "outputs": [],
   "source": []
  },
  {
   "cell_type": "code",
   "execution_count": null,
   "id": "3256918a",
   "metadata": {},
   "outputs": [],
   "source": []
  },
  {
   "cell_type": "code",
   "execution_count": null,
   "id": "1708e7eb",
   "metadata": {},
   "outputs": [],
   "source": []
  },
  {
   "cell_type": "code",
   "execution_count": null,
   "id": "e2f02261",
   "metadata": {},
   "outputs": [],
   "source": []
  }
 ],
 "metadata": {
  "kernelspec": {
   "display_name": "Python 3 (ipykernel)",
   "language": "python",
   "name": "python3"
  },
  "language_info": {
   "codemirror_mode": {
    "name": "ipython",
    "version": 3
   },
   "file_extension": ".py",
   "mimetype": "text/x-python",
   "name": "python",
   "nbconvert_exporter": "python",
   "pygments_lexer": "ipython3",
   "version": "3.9.12"
  }
 },
 "nbformat": 4,
 "nbformat_minor": 5
}
