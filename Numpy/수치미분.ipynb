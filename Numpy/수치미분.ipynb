{
 "cells": [
  {
   "cell_type": "markdown",
   "id": "bdc6964f",
   "metadata": {},
   "source": [
    "* 수치미분은 수학공식을 쓰지 않고 C / 파이썬 등을 이용하여, 주어진 입력 값이 미세하게 변할 때 함수 값 f는 얼마나 변하는지를 계산하는 것을 지칭"
   ]
  },
  {
   "cell_type": "code",
   "execution_count": 1,
   "id": "3b6b0c36",
   "metadata": {},
   "outputs": [],
   "source": [
    "def numerical_derivative(f,x):\n",
    "    delta_x = 1e-4 # 10^-4 / lim에 해당되는 작은 값\n",
    "    \n",
    "    return (f(x+delta_x)-f(x-delta_x))/(2*delta_x)\n",
    "    "
   ]
  },
  {
   "cell_type": "markdown",
   "id": "2d8e2575",
   "metadata": {},
   "source": [
    "### Ex.1)"
   ]
  },
  {
   "cell_type": "code",
   "execution_count": 2,
   "id": "7890a667",
   "metadata": {},
   "outputs": [],
   "source": [
    "def my_func1(x):\n",
    "    return x**2"
   ]
  },
  {
   "cell_type": "code",
   "execution_count": 3,
   "id": "5e8b2b0c",
   "metadata": {},
   "outputs": [],
   "source": [
    "def numerical_derivative(f,x):\n",
    "    \n",
    "    delta_x = 1e-4\n",
    "    \n",
    "    return (f(x+delta_x) - f(x-delta_x))/ (2*delta_x) "
   ]
  },
  {
   "cell_type": "code",
   "execution_count": 4,
   "id": "ba5c9cd2",
   "metadata": {
    "scrolled": true
   },
   "outputs": [
    {
     "name": "stdout",
     "output_type": "stream",
     "text": [
      "result == 6.000000000012662\n"
     ]
    }
   ],
   "source": [
    "result = numerical_derivative(my_func1, 3)\n",
    "\n",
    "print(\"result ==\", result)"
   ]
  },
  {
   "cell_type": "markdown",
   "id": "f1ca7c60",
   "metadata": {},
   "source": [
    "### Ex.2)"
   ]
  },
  {
   "cell_type": "code",
   "execution_count": 1,
   "id": "3853c0dc",
   "metadata": {},
   "outputs": [],
   "source": [
    "import numpy as np\n",
    "\n",
    "def my_func2(x):\n",
    "    return 3*x*(np.exp(x))\n",
    "\n",
    "def numerical_derivative(f,x):\n",
    "    delta_x = 1e-4\n",
    "    \n",
    "    return(f(x+delta_x) - f(x-delta_x)) / (2*delta_x)\n"
   ]
  },
  {
   "cell_type": "code",
   "execution_count": 3,
   "id": "26ecfe77",
   "metadata": {},
   "outputs": [
    {
     "name": "stdout",
     "output_type": "stream",
     "text": [
      "66.50150507518049\n"
     ]
    }
   ],
   "source": [
    "result = numerical_derivative(my_func2,2)\n",
    "print(result)"
   ]
  },
  {
   "cell_type": "code",
   "execution_count": null,
   "id": "c18873f1",
   "metadata": {},
   "outputs": [],
   "source": []
  }
 ],
 "metadata": {
  "kernelspec": {
   "display_name": "Python 3 (ipykernel)",
   "language": "python",
   "name": "python3"
  },
  "language_info": {
   "codemirror_mode": {
    "name": "ipython",
    "version": 3
   },
   "file_extension": ".py",
   "mimetype": "text/x-python",
   "name": "python",
   "nbconvert_exporter": "python",
   "pygments_lexer": "ipython3",
   "version": "3.9.12"
  }
 },
 "nbformat": 4,
 "nbformat_minor": 5
}
